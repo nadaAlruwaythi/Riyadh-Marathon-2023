{
  "nbformat": 4,
  "nbformat_minor": 0,
  "metadata": {
    "colab": {
      "provenance": [],
      "authorship_tag": "ABX9TyPWwaqJckHN/FkMbj2BtAqp",
      "include_colab_link": true
    },
    "kernelspec": {
      "name": "python3",
      "display_name": "Python 3"
    },
    "language_info": {
      "name": "python"
    }
  },
  "cells": [
    {
      "cell_type": "markdown",
      "metadata": {
        "id": "view-in-github",
        "colab_type": "text"
      },
      "source": [
        "<a href=\"https://colab.research.google.com/github/nadaAlruwaythi/Riyadh-Marathon-2023/blob/main/Marathon%202023.ipynb\" target=\"_parent\"><img src=\"https://colab.research.google.com/assets/colab-badge.svg\" alt=\"Open In Colab\"/></a>"
      ]
    },
    {
      "cell_type": "code",
      "execution_count": 1,
      "metadata": {
        "id": "-ORUjD__Yf3C"
      },
      "outputs": [],
      "source": [
        "import pandas as pd\n",
        "import matplotlib.pyplot as plt\n",
        "import seaborn as sns\n",
        "import numpy as np"
      ]
    },
    {
      "cell_type": "code",
      "source": [
        "df=pd.read_csv('Riyadh Marathon 2023.csv')\n",
        "df.head()"
      ],
      "metadata": {
        "colab": {
          "base_uri": "https://localhost:8080/",
          "height": 206
        },
        "id": "q6kqGkSjYqKf",
        "outputId": "c8f81a8c-ba38-4449-decf-4e3ea7a822e6"
      },
      "execution_count": 4,
      "outputs": [
        {
          "output_type": "execute_result",
          "data": {
            "text/plain": [
              "   Rank                                  Name  Gender Category Nationality  \\\n",
              "0   1.0  42eb63b2-5dba-4030-bf6d-2b1f83ac611b  Female      4km         GBR   \n",
              "1   2.0  ab274d04-e39c-48d8-8dbd-4ecbce5cc95d  Female      4km         KSA   \n",
              "2   3.0  9b249d53-c90b-4b48-b23b-ec5f141ef44c  Female      4km         FRA   \n",
              "3   4.0  28e13d85-38d4-483c-b9cc-93b9bd9bde14  Female      4km         JOR   \n",
              "4   5.0  0a1c87a5-344e-4d27-9182-32f654230ebb  Female      4km         KSA   \n",
              "\n",
              "  Gun Time Chip Time  \n",
              "0    19:02     18:41  \n",
              "1    19:50     19:42  \n",
              "2    21:15     21:15  \n",
              "3    21:32     21:25  \n",
              "4    21:55     21:40  "
            ],
            "text/html": [
              "\n",
              "  <div id=\"df-231acaf5-f4f2-4366-b23b-2feb2abcbb69\">\n",
              "    <div class=\"colab-df-container\">\n",
              "      <div>\n",
              "<style scoped>\n",
              "    .dataframe tbody tr th:only-of-type {\n",
              "        vertical-align: middle;\n",
              "    }\n",
              "\n",
              "    .dataframe tbody tr th {\n",
              "        vertical-align: top;\n",
              "    }\n",
              "\n",
              "    .dataframe thead th {\n",
              "        text-align: right;\n",
              "    }\n",
              "</style>\n",
              "<table border=\"1\" class=\"dataframe\">\n",
              "  <thead>\n",
              "    <tr style=\"text-align: right;\">\n",
              "      <th></th>\n",
              "      <th>Rank</th>\n",
              "      <th>Name</th>\n",
              "      <th>Gender</th>\n",
              "      <th>Category</th>\n",
              "      <th>Nationality</th>\n",
              "      <th>Gun Time</th>\n",
              "      <th>Chip Time</th>\n",
              "    </tr>\n",
              "  </thead>\n",
              "  <tbody>\n",
              "    <tr>\n",
              "      <th>0</th>\n",
              "      <td>1.0</td>\n",
              "      <td>42eb63b2-5dba-4030-bf6d-2b1f83ac611b</td>\n",
              "      <td>Female</td>\n",
              "      <td>4km</td>\n",
              "      <td>GBR</td>\n",
              "      <td>19:02</td>\n",
              "      <td>18:41</td>\n",
              "    </tr>\n",
              "    <tr>\n",
              "      <th>1</th>\n",
              "      <td>2.0</td>\n",
              "      <td>ab274d04-e39c-48d8-8dbd-4ecbce5cc95d</td>\n",
              "      <td>Female</td>\n",
              "      <td>4km</td>\n",
              "      <td>KSA</td>\n",
              "      <td>19:50</td>\n",
              "      <td>19:42</td>\n",
              "    </tr>\n",
              "    <tr>\n",
              "      <th>2</th>\n",
              "      <td>3.0</td>\n",
              "      <td>9b249d53-c90b-4b48-b23b-ec5f141ef44c</td>\n",
              "      <td>Female</td>\n",
              "      <td>4km</td>\n",
              "      <td>FRA</td>\n",
              "      <td>21:15</td>\n",
              "      <td>21:15</td>\n",
              "    </tr>\n",
              "    <tr>\n",
              "      <th>3</th>\n",
              "      <td>4.0</td>\n",
              "      <td>28e13d85-38d4-483c-b9cc-93b9bd9bde14</td>\n",
              "      <td>Female</td>\n",
              "      <td>4km</td>\n",
              "      <td>JOR</td>\n",
              "      <td>21:32</td>\n",
              "      <td>21:25</td>\n",
              "    </tr>\n",
              "    <tr>\n",
              "      <th>4</th>\n",
              "      <td>5.0</td>\n",
              "      <td>0a1c87a5-344e-4d27-9182-32f654230ebb</td>\n",
              "      <td>Female</td>\n",
              "      <td>4km</td>\n",
              "      <td>KSA</td>\n",
              "      <td>21:55</td>\n",
              "      <td>21:40</td>\n",
              "    </tr>\n",
              "  </tbody>\n",
              "</table>\n",
              "</div>\n",
              "      <button class=\"colab-df-convert\" onclick=\"convertToInteractive('df-231acaf5-f4f2-4366-b23b-2feb2abcbb69')\"\n",
              "              title=\"Convert this dataframe to an interactive table.\"\n",
              "              style=\"display:none;\">\n",
              "        \n",
              "  <svg xmlns=\"http://www.w3.org/2000/svg\" height=\"24px\"viewBox=\"0 0 24 24\"\n",
              "       width=\"24px\">\n",
              "    <path d=\"M0 0h24v24H0V0z\" fill=\"none\"/>\n",
              "    <path d=\"M18.56 5.44l.94 2.06.94-2.06 2.06-.94-2.06-.94-.94-2.06-.94 2.06-2.06.94zm-11 1L8.5 8.5l.94-2.06 2.06-.94-2.06-.94L8.5 2.5l-.94 2.06-2.06.94zm10 10l.94 2.06.94-2.06 2.06-.94-2.06-.94-.94-2.06-.94 2.06-2.06.94z\"/><path d=\"M17.41 7.96l-1.37-1.37c-.4-.4-.92-.59-1.43-.59-.52 0-1.04.2-1.43.59L10.3 9.45l-7.72 7.72c-.78.78-.78 2.05 0 2.83L4 21.41c.39.39.9.59 1.41.59.51 0 1.02-.2 1.41-.59l7.78-7.78 2.81-2.81c.8-.78.8-2.07 0-2.86zM5.41 20L4 18.59l7.72-7.72 1.47 1.35L5.41 20z\"/>\n",
              "  </svg>\n",
              "      </button>\n",
              "      \n",
              "  <style>\n",
              "    .colab-df-container {\n",
              "      display:flex;\n",
              "      flex-wrap:wrap;\n",
              "      gap: 12px;\n",
              "    }\n",
              "\n",
              "    .colab-df-convert {\n",
              "      background-color: #E8F0FE;\n",
              "      border: none;\n",
              "      border-radius: 50%;\n",
              "      cursor: pointer;\n",
              "      display: none;\n",
              "      fill: #1967D2;\n",
              "      height: 32px;\n",
              "      padding: 0 0 0 0;\n",
              "      width: 32px;\n",
              "    }\n",
              "\n",
              "    .colab-df-convert:hover {\n",
              "      background-color: #E2EBFA;\n",
              "      box-shadow: 0px 1px 2px rgba(60, 64, 67, 0.3), 0px 1px 3px 1px rgba(60, 64, 67, 0.15);\n",
              "      fill: #174EA6;\n",
              "    }\n",
              "\n",
              "    [theme=dark] .colab-df-convert {\n",
              "      background-color: #3B4455;\n",
              "      fill: #D2E3FC;\n",
              "    }\n",
              "\n",
              "    [theme=dark] .colab-df-convert:hover {\n",
              "      background-color: #434B5C;\n",
              "      box-shadow: 0px 1px 3px 1px rgba(0, 0, 0, 0.15);\n",
              "      filter: drop-shadow(0px 1px 2px rgba(0, 0, 0, 0.3));\n",
              "      fill: #FFFFFF;\n",
              "    }\n",
              "  </style>\n",
              "\n",
              "      <script>\n",
              "        const buttonEl =\n",
              "          document.querySelector('#df-231acaf5-f4f2-4366-b23b-2feb2abcbb69 button.colab-df-convert');\n",
              "        buttonEl.style.display =\n",
              "          google.colab.kernel.accessAllowed ? 'block' : 'none';\n",
              "\n",
              "        async function convertToInteractive(key) {\n",
              "          const element = document.querySelector('#df-231acaf5-f4f2-4366-b23b-2feb2abcbb69');\n",
              "          const dataTable =\n",
              "            await google.colab.kernel.invokeFunction('convertToInteractive',\n",
              "                                                     [key], {});\n",
              "          if (!dataTable) return;\n",
              "\n",
              "          const docLinkHtml = 'Like what you see? Visit the ' +\n",
              "            '<a target=\"_blank\" href=https://colab.research.google.com/notebooks/data_table.ipynb>data table notebook</a>'\n",
              "            + ' to learn more about interactive tables.';\n",
              "          element.innerHTML = '';\n",
              "          dataTable['output_type'] = 'display_data';\n",
              "          await google.colab.output.renderOutput(dataTable, element);\n",
              "          const docLink = document.createElement('div');\n",
              "          docLink.innerHTML = docLinkHtml;\n",
              "          element.appendChild(docLink);\n",
              "        }\n",
              "      </script>\n",
              "    </div>\n",
              "  </div>\n",
              "  "
            ]
          },
          "metadata": {},
          "execution_count": 4
        }
      ]
    },
    {
      "cell_type": "code",
      "source": [
        "df.info()"
      ],
      "metadata": {
        "colab": {
          "base_uri": "https://localhost:8080/"
        },
        "id": "HRqr5AmdZGDD",
        "outputId": "952508d0-9742-477f-ba90-aebed566b572"
      },
      "execution_count": 5,
      "outputs": [
        {
          "output_type": "stream",
          "name": "stdout",
          "text": [
            "<class 'pandas.core.frame.DataFrame'>\n",
            "RangeIndex: 12009 entries, 0 to 12008\n",
            "Data columns (total 7 columns):\n",
            " #   Column       Non-Null Count  Dtype  \n",
            "---  ------       --------------  -----  \n",
            " 0   Rank         11999 non-null  float64\n",
            " 1   Name         12009 non-null  object \n",
            " 2   Gender       12009 non-null  object \n",
            " 3   Category     12009 non-null  object \n",
            " 4   Nationality  11947 non-null  object \n",
            " 5   Gun Time     11997 non-null  object \n",
            " 6   Chip Time    11181 non-null  object \n",
            "dtypes: float64(1), object(6)\n",
            "memory usage: 656.9+ KB\n"
          ]
        }
      ]
    },
    {
      "cell_type": "code",
      "source": [
        "df.isnull().sum()"
      ],
      "metadata": {
        "colab": {
          "base_uri": "https://localhost:8080/"
        },
        "id": "PlWnuNF5Z3n8",
        "outputId": "eabe6dc5-6302-4fc4-9371-b3629a71efdd"
      },
      "execution_count": 6,
      "outputs": [
        {
          "output_type": "execute_result",
          "data": {
            "text/plain": [
              "Rank            10\n",
              "Name             0\n",
              "Gender           0\n",
              "Category         0\n",
              "Nationality     62\n",
              "Gun Time        12\n",
              "Chip Time      828\n",
              "dtype: int64"
            ]
          },
          "metadata": {},
          "execution_count": 6
        }
      ]
    },
    {
      "cell_type": "code",
      "source": [
        "df.tail()"
      ],
      "metadata": {
        "colab": {
          "base_uri": "https://localhost:8080/",
          "height": 206
        },
        "id": "OFeyBdxrb29b",
        "outputId": "aa976999-cdf6-44bf-e398-3443934c294e"
      },
      "execution_count": 7,
      "outputs": [
        {
          "output_type": "execute_result",
          "data": {
            "text/plain": [
              "       Rank                                  Name Gender  Category  \\\n",
              "12004   0.0  4e452f33-f457-4a85-b162-8bd2525d27ef   Male  Marathon   \n",
              "12005   0.0  71b836d3-8d7a-4744-bb89-23dc843009f4   Male  Marathon   \n",
              "12006   0.0  99a58f21-7a17-45b6-bbf0-659ee09b6495   Male  Marathon   \n",
              "12007   0.0  ea152733-39b8-405c-98d1-2a32d38c87c8   Male  Marathon   \n",
              "12008   NaN  e5e5ca44-730e-483c-94d9-62c1225b65b9   Male  Marathon   \n",
              "\n",
              "      Nationality Gun Time Chip Time  \n",
              "12004         KSA      DNS       NaN  \n",
              "12005         KSA      DNS       NaN  \n",
              "12006         KSA      DNS   5:29:20  \n",
              "12007         KSA      DNS   5:29:47  \n",
              "12008         NaN      NaN       NaN  "
            ],
            "text/html": [
              "\n",
              "  <div id=\"df-ccfe799c-e15e-42f1-b063-fdb3ab3fab90\">\n",
              "    <div class=\"colab-df-container\">\n",
              "      <div>\n",
              "<style scoped>\n",
              "    .dataframe tbody tr th:only-of-type {\n",
              "        vertical-align: middle;\n",
              "    }\n",
              "\n",
              "    .dataframe tbody tr th {\n",
              "        vertical-align: top;\n",
              "    }\n",
              "\n",
              "    .dataframe thead th {\n",
              "        text-align: right;\n",
              "    }\n",
              "</style>\n",
              "<table border=\"1\" class=\"dataframe\">\n",
              "  <thead>\n",
              "    <tr style=\"text-align: right;\">\n",
              "      <th></th>\n",
              "      <th>Rank</th>\n",
              "      <th>Name</th>\n",
              "      <th>Gender</th>\n",
              "      <th>Category</th>\n",
              "      <th>Nationality</th>\n",
              "      <th>Gun Time</th>\n",
              "      <th>Chip Time</th>\n",
              "    </tr>\n",
              "  </thead>\n",
              "  <tbody>\n",
              "    <tr>\n",
              "      <th>12004</th>\n",
              "      <td>0.0</td>\n",
              "      <td>4e452f33-f457-4a85-b162-8bd2525d27ef</td>\n",
              "      <td>Male</td>\n",
              "      <td>Marathon</td>\n",
              "      <td>KSA</td>\n",
              "      <td>DNS</td>\n",
              "      <td>NaN</td>\n",
              "    </tr>\n",
              "    <tr>\n",
              "      <th>12005</th>\n",
              "      <td>0.0</td>\n",
              "      <td>71b836d3-8d7a-4744-bb89-23dc843009f4</td>\n",
              "      <td>Male</td>\n",
              "      <td>Marathon</td>\n",
              "      <td>KSA</td>\n",
              "      <td>DNS</td>\n",
              "      <td>NaN</td>\n",
              "    </tr>\n",
              "    <tr>\n",
              "      <th>12006</th>\n",
              "      <td>0.0</td>\n",
              "      <td>99a58f21-7a17-45b6-bbf0-659ee09b6495</td>\n",
              "      <td>Male</td>\n",
              "      <td>Marathon</td>\n",
              "      <td>KSA</td>\n",
              "      <td>DNS</td>\n",
              "      <td>5:29:20</td>\n",
              "    </tr>\n",
              "    <tr>\n",
              "      <th>12007</th>\n",
              "      <td>0.0</td>\n",
              "      <td>ea152733-39b8-405c-98d1-2a32d38c87c8</td>\n",
              "      <td>Male</td>\n",
              "      <td>Marathon</td>\n",
              "      <td>KSA</td>\n",
              "      <td>DNS</td>\n",
              "      <td>5:29:47</td>\n",
              "    </tr>\n",
              "    <tr>\n",
              "      <th>12008</th>\n",
              "      <td>NaN</td>\n",
              "      <td>e5e5ca44-730e-483c-94d9-62c1225b65b9</td>\n",
              "      <td>Male</td>\n",
              "      <td>Marathon</td>\n",
              "      <td>NaN</td>\n",
              "      <td>NaN</td>\n",
              "      <td>NaN</td>\n",
              "    </tr>\n",
              "  </tbody>\n",
              "</table>\n",
              "</div>\n",
              "      <button class=\"colab-df-convert\" onclick=\"convertToInteractive('df-ccfe799c-e15e-42f1-b063-fdb3ab3fab90')\"\n",
              "              title=\"Convert this dataframe to an interactive table.\"\n",
              "              style=\"display:none;\">\n",
              "        \n",
              "  <svg xmlns=\"http://www.w3.org/2000/svg\" height=\"24px\"viewBox=\"0 0 24 24\"\n",
              "       width=\"24px\">\n",
              "    <path d=\"M0 0h24v24H0V0z\" fill=\"none\"/>\n",
              "    <path d=\"M18.56 5.44l.94 2.06.94-2.06 2.06-.94-2.06-.94-.94-2.06-.94 2.06-2.06.94zm-11 1L8.5 8.5l.94-2.06 2.06-.94-2.06-.94L8.5 2.5l-.94 2.06-2.06.94zm10 10l.94 2.06.94-2.06 2.06-.94-2.06-.94-.94-2.06-.94 2.06-2.06.94z\"/><path d=\"M17.41 7.96l-1.37-1.37c-.4-.4-.92-.59-1.43-.59-.52 0-1.04.2-1.43.59L10.3 9.45l-7.72 7.72c-.78.78-.78 2.05 0 2.83L4 21.41c.39.39.9.59 1.41.59.51 0 1.02-.2 1.41-.59l7.78-7.78 2.81-2.81c.8-.78.8-2.07 0-2.86zM5.41 20L4 18.59l7.72-7.72 1.47 1.35L5.41 20z\"/>\n",
              "  </svg>\n",
              "      </button>\n",
              "      \n",
              "  <style>\n",
              "    .colab-df-container {\n",
              "      display:flex;\n",
              "      flex-wrap:wrap;\n",
              "      gap: 12px;\n",
              "    }\n",
              "\n",
              "    .colab-df-convert {\n",
              "      background-color: #E8F0FE;\n",
              "      border: none;\n",
              "      border-radius: 50%;\n",
              "      cursor: pointer;\n",
              "      display: none;\n",
              "      fill: #1967D2;\n",
              "      height: 32px;\n",
              "      padding: 0 0 0 0;\n",
              "      width: 32px;\n",
              "    }\n",
              "\n",
              "    .colab-df-convert:hover {\n",
              "      background-color: #E2EBFA;\n",
              "      box-shadow: 0px 1px 2px rgba(60, 64, 67, 0.3), 0px 1px 3px 1px rgba(60, 64, 67, 0.15);\n",
              "      fill: #174EA6;\n",
              "    }\n",
              "\n",
              "    [theme=dark] .colab-df-convert {\n",
              "      background-color: #3B4455;\n",
              "      fill: #D2E3FC;\n",
              "    }\n",
              "\n",
              "    [theme=dark] .colab-df-convert:hover {\n",
              "      background-color: #434B5C;\n",
              "      box-shadow: 0px 1px 3px 1px rgba(0, 0, 0, 0.15);\n",
              "      filter: drop-shadow(0px 1px 2px rgba(0, 0, 0, 0.3));\n",
              "      fill: #FFFFFF;\n",
              "    }\n",
              "  </style>\n",
              "\n",
              "      <script>\n",
              "        const buttonEl =\n",
              "          document.querySelector('#df-ccfe799c-e15e-42f1-b063-fdb3ab3fab90 button.colab-df-convert');\n",
              "        buttonEl.style.display =\n",
              "          google.colab.kernel.accessAllowed ? 'block' : 'none';\n",
              "\n",
              "        async function convertToInteractive(key) {\n",
              "          const element = document.querySelector('#df-ccfe799c-e15e-42f1-b063-fdb3ab3fab90');\n",
              "          const dataTable =\n",
              "            await google.colab.kernel.invokeFunction('convertToInteractive',\n",
              "                                                     [key], {});\n",
              "          if (!dataTable) return;\n",
              "\n",
              "          const docLinkHtml = 'Like what you see? Visit the ' +\n",
              "            '<a target=\"_blank\" href=https://colab.research.google.com/notebooks/data_table.ipynb>data table notebook</a>'\n",
              "            + ' to learn more about interactive tables.';\n",
              "          element.innerHTML = '';\n",
              "          dataTable['output_type'] = 'display_data';\n",
              "          await google.colab.output.renderOutput(dataTable, element);\n",
              "          const docLink = document.createElement('div');\n",
              "          docLink.innerHTML = docLinkHtml;\n",
              "          element.appendChild(docLink);\n",
              "        }\n",
              "      </script>\n",
              "    </div>\n",
              "  </div>\n",
              "  "
            ]
          },
          "metadata": {},
          "execution_count": 7
        }
      ]
    },
    {
      "cell_type": "code",
      "source": [
        "df['Gun Time'].value_counts()"
      ],
      "metadata": {
        "colab": {
          "base_uri": "https://localhost:8080/"
        },
        "id": "mMpRzlgPcK_v",
        "outputId": "52c83809-6760-4e1c-9f31-94ae39a7dd94"
      },
      "execution_count": 8,
      "outputs": [
        {
          "output_type": "execute_result",
          "data": {
            "text/plain": [
              "DNS        862\n",
              "DNF         10\n",
              "49:24       10\n",
              "DSQ          9\n",
              "57:47        8\n",
              "          ... \n",
              "1:11:08      1\n",
              "1:11:13      1\n",
              "1:11:14      1\n",
              "1:11:18      1\n",
              "2:05:37      1\n",
              "Name: Gun Time, Length: 6413, dtype: int64"
            ]
          },
          "metadata": {},
          "execution_count": 8
        }
      ]
    },
    {
      "cell_type": "code",
      "source": [
        "df.Category.value_counts()"
      ],
      "metadata": {
        "colab": {
          "base_uri": "https://localhost:8080/"
        },
        "id": "HoHhozZ0dSL4",
        "outputId": "9571d5de-241c-442d-c249-e5c09562d393"
      },
      "execution_count": 9,
      "outputs": [
        {
          "output_type": "execute_result",
          "data": {
            "text/plain": [
              "4km                    4500\n",
              "10km                   4476\n",
              "Half Marathon          2471\n",
              "Marathon                516\n",
              "MARATHON ELITE           32\n",
              "Half Marathon Elite      14\n",
              "Name: Category, dtype: int64"
            ]
          },
          "metadata": {},
          "execution_count": 9
        }
      ]
    },
    {
      "cell_type": "code",
      "source": [
        "\n",
        "categories=df.Category.unique()\n",
        "\n",
        "def percentage (category):\n",
        "    x = df[df['Category']==category]\n",
        "    percentageFemale = round((len(x[x['Gender'] == 'Female'])/len(x)),2)\n",
        "    percentageMale = round((len(x[x['Gender'] == 'Male'])/len(x)),2)\n",
        "    return percentageFemale, percentageMale\n",
        "\n",
        "y=0\n",
        "for x in categories:\n",
        "    print('Females are', percentage(x)[0],'of all participants in',categories[y], 'while Males are', percentage(x)[1])\n",
        "    y+=1"
      ],
      "metadata": {
        "colab": {
          "base_uri": "https://localhost:8080/"
        },
        "id": "_YkGh8Xde6jj",
        "outputId": "eaa6ca0d-2b54-4d40-c601-76712b5a307d"
      },
      "execution_count": 10,
      "outputs": [
        {
          "output_type": "stream",
          "name": "stdout",
          "text": [
            "Females are 0.46 of all participants in 4km while Males are 0.54\n",
            "Females are 0.47 of all participants in MARATHON ELITE while Males are 0.53\n",
            "Females are 0.15 of all participants in Marathon while Males are 0.85\n",
            "Females are 0.31 of all participants in 10km while Males are 0.69\n",
            "Females are 0.5 of all participants in Half Marathon Elite while Males are 0.5\n",
            "Females are 0.21 of all participants in Half Marathon while Males are 0.79\n"
          ]
        }
      ]
    },
    {
      "cell_type": "code",
      "source": [
        "ax = sns.countplot(y=\"Gender\", data=df ,palette=\"magma\")\n",
        "plt.title('Gender on Marathon 2023 : F - female,M - male')\n",
        "plt.xlabel('sex')\n",
        "\n",
        "total = len(df['Category'])\n",
        "for p in ax.patches:\n",
        "        percentage = '{:.1f}%'.format(100 * p.get_width()/total)\n",
        "        x = p.get_x() + p.get_width() + 0.02\n",
        "        y = p.get_y() + p.get_height()/2\n",
        "        ax.annotate(percentage, (x, y))\n",
        "\n",
        "\n"
      ],
      "metadata": {
        "colab": {
          "base_uri": "https://localhost:8080/",
          "height": 295
        },
        "id": "2bfrnqnjV9Yl",
        "outputId": "89c45efa-a530-421a-8727-44640d5ae6f2"
      },
      "execution_count": 16,
      "outputs": [
        {
          "output_type": "display_data",
          "data": {
            "text/plain": [
              "<Figure size 432x288 with 1 Axes>"
            ],
            "image/png": "[encoded data removed]"
          },
          "metadata": {
            "needs_background": "light"
          }
        }
      ]
    },
    {
      "cell_type": "code",
      "source": [
        "def piechart (category):\n",
        "    x = df[df['Category']==category]\n",
        "    cat_arr = np.array(x['Gender'])\n",
        "\n",
        "    gender_labels, gender_counts = np.unique(x['Gender'],return_counts=True)\n",
        "\n",
        "    \n",
        "\n",
        "    plt.figure()\n",
        "    plt.pie(gender_counts, labels = gender_labels,autopct='%.2f%%') #autopct to format labels\n",
        "    plt.title(category)\n",
        "    plt.show()\n",
        "\n",
        "\n",
        "for x in categories:\n",
        "    piechart(x)"
      ],
      "metadata": {
        "colab": {
          "base_uri": "https://localhost:8080/",
          "height": 1000
        },
        "id": "lo_Qw0OaeVkP",
        "outputId": "2e5c17d6-316c-4de9-cca0-6194e1944f34"
      },
      "execution_count": 12,
      "outputs": [
        {
          "output_type": "display_data",
          "data": {
            "text/plain": [
              "<Figure size 432x288 with 1 Axes>"
            ],
            "image/png": "[encoded data removed]"
          },
          "metadata": {}
        },
        {
          "output_type": "display_data",
          "data": {
            "text/plain": [
              "<Figure size 432x288 with 1 Axes>"
            ],
            "image/png": "[encoded data removed]"
          },
          "metadata": {}
        },
        {
          "output_type": "display_data",
          "data": {
            "text/plain": [
              "<Figure size 432x288 with 1 Axes>"
            ],
            "image/png": "[encoded data removed]"
          },
          "metadata": {}
        },
        {
          "output_type": "display_data",
          "data": {
            "text/plain": [
              "<Figure size 432x288 with 1 Axes>"
            ],
            "image/png": "[encoded data removed]"
          },
          "metadata": {}
        },
        {
          "output_type": "display_data",
          "data": {
            "text/plain": [
              "<Figure size 432x288 with 1 Axes>"
            ],
            "image/png": "[encoded data removed]"
          },
          "metadata": {}
        },
        {
          "output_type": "display_data",
          "data": {
            "text/plain": [
              "<Figure size 432x288 with 1 Axes>"
            ],
            "image/png": "[encoded data removed]"
          },
          "metadata": {}
        }
      ]
    },
    {
      "cell_type": "code",
      "source": [],
      "metadata": {
        "id": "3b0ff8n_kQWt"
      },
      "execution_count": null,
      "outputs": []
    }
  ]
}